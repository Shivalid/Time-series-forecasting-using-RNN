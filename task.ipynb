{
 "cells": [
  {
   "cell_type": "markdown",
   "id": "e97abd68",
   "metadata": {},
   "source": [
    "### Time series forecasting of positions of basket ball players"
   ]
  },
  {
   "cell_type": "markdown",
   "id": "f21f3afd",
   "metadata": {},
   "source": [
    "I have interpretted this as a state space problem hence not tried out Vector Autoregression (VAR) method (although, it would be among my next steps to try out.) Hence, the options I had were Kalman filter, RNN, particle filter, extended Kalman filter, generative RNNs or Variational Autoencoder. Since, this is a complex system, the underlying dynamical process can't be linear (and known before hand say for example Newtonian mechanics), hence there is no point trying out Kalman filter. Witnessing the tremendous success of RNN in object tracking and time series, I decided to implement a simple architecture of RNN to predict the next time step given past (25 and 100) time steps. Future time steps can be further computed by applying the learnt model from past known steps along with predicted previous step(s). Following is my implementation:"
   ]
  },
  {
   "cell_type": "markdown",
   "id": "dfbf19d2",
   "metadata": {},
   "source": [
    "### single time series"
   ]
  },
  {
   "cell_type": "markdown",
   "id": "7fa2cf0f",
   "metadata": {},
   "source": [
    "I have experimented with only one time series '2019040102_nba-bos_TRACKING.csv' in a way that player ID or jersey number and team ID are not a part of the training set and the information is implicit from the data structure used as training and test data. This gives rise to 3 features (x, y, z) and hence 11*3 states at each time step of the time series."
   ]
  },
  {
   "cell_type": "markdown",
   "id": "bad34fe1",
   "metadata": {},
   "source": [
    "### Understanding dataset"
   ]
  },
  {
   "cell_type": "code",
   "execution_count": 1,
   "id": "bed93122",
   "metadata": {},
   "outputs": [
    {
     "name": "stderr",
     "output_type": "stream",
     "text": [
      "C:\\Users\\verma_k\\anaconda3\\lib\\site-packages\\numpy\\_distributor_init.py:30: UserWarning: loaded more than 1 DLL from .libs:\n",
      "C:\\Users\\verma_k\\anaconda3\\lib\\site-packages\\numpy\\.libs\\libopenblas.GK7GX5KEQ4F6UYO3P26ULGBQYHGQO7J4.gfortran-win_amd64.dll\n",
      "C:\\Users\\verma_k\\anaconda3\\lib\\site-packages\\numpy\\.libs\\libopenblas.wcdjnk7yvmpzq2me2zzhjjrj3jikndb7.gfortran-win_amd64.dll\n",
      "  warnings.warn(\"loaded more than 1 DLL from .libs:\"\n"
     ]
    }
   ],
   "source": [
    "import pandas as pd\n",
    "from pandas.plotting import autocorrelation_plot\n",
    "import matplotlib.pyplot as plt\n",
    "import os\n",
    "import keras"
   ]
  },
  {
   "cell_type": "code",
   "execution_count": 2,
   "id": "37ecdc27",
   "metadata": {},
   "outputs": [
    {
     "data": {
      "text/html": [
       "<div>\n",
       "<style scoped>\n",
       "    .dataframe tbody tr th:only-of-type {\n",
       "        vertical-align: middle;\n",
       "    }\n",
       "\n",
       "    .dataframe tbody tr th {\n",
       "        vertical-align: top;\n",
       "    }\n",
       "\n",
       "    .dataframe thead th {\n",
       "        text-align: right;\n",
       "    }\n",
       "</style>\n",
       "<table border=\"1\" class=\"dataframe\">\n",
       "  <thead>\n",
       "    <tr style=\"text-align: right;\">\n",
       "      <th></th>\n",
       "      <th>ts</th>\n",
       "      <th>player_id</th>\n",
       "      <th>jersey_nr</th>\n",
       "      <th>team</th>\n",
       "      <th>x</th>\n",
       "      <th>y</th>\n",
       "      <th>z</th>\n",
       "    </tr>\n",
       "  </thead>\n",
       "  <tbody>\n",
       "    <tr>\n",
       "      <th>0</th>\n",
       "      <td>40:56.2</td>\n",
       "      <td>986b713a-b20b-4eb0-919e-c859d0508af7</td>\n",
       "      <td>0</td>\n",
       "      <td>team_0</td>\n",
       "      <td>0.182882</td>\n",
       "      <td>2.953548</td>\n",
       "      <td>0.000000</td>\n",
       "    </tr>\n",
       "    <tr>\n",
       "      <th>1</th>\n",
       "      <td>40:56.2</td>\n",
       "      <td>ff4221b5-89ef-11e6-b799-a45e60e298d3</td>\n",
       "      <td>11</td>\n",
       "      <td>team_0</td>\n",
       "      <td>6.647769</td>\n",
       "      <td>-0.234699</td>\n",
       "      <td>0.000000</td>\n",
       "    </tr>\n",
       "    <tr>\n",
       "      <th>2</th>\n",
       "      <td>40:56.2</td>\n",
       "      <td>ff411907-89ef-11e6-9c68-a45e60e298d3</td>\n",
       "      <td>36</td>\n",
       "      <td>team_0</td>\n",
       "      <td>0.438917</td>\n",
       "      <td>-2.990124</td>\n",
       "      <td>0.000000</td>\n",
       "    </tr>\n",
       "    <tr>\n",
       "      <th>3</th>\n",
       "      <td>40:56.2</td>\n",
       "      <td>ff427c2e-89ef-11e6-8d2a-a45e60e298d3</td>\n",
       "      <td>42</td>\n",
       "      <td>team_0</td>\n",
       "      <td>3.313216</td>\n",
       "      <td>-0.268227</td>\n",
       "      <td>0.000000</td>\n",
       "    </tr>\n",
       "    <tr>\n",
       "      <th>4</th>\n",
       "      <td>40:56.2</td>\n",
       "      <td>ff413e73-89ef-11e6-a5df-a45e60e298d3</td>\n",
       "      <td>46</td>\n",
       "      <td>team_0</td>\n",
       "      <td>0.143258</td>\n",
       "      <td>0.082297</td>\n",
       "      <td>0.000000</td>\n",
       "    </tr>\n",
       "    <tr>\n",
       "      <th>5</th>\n",
       "      <td>40:56.2</td>\n",
       "      <td>ff4024b0-89ef-11e6-a1ae-a45e60e298d3</td>\n",
       "      <td>11</td>\n",
       "      <td>team_1</td>\n",
       "      <td>-0.448061</td>\n",
       "      <td>-2.962692</td>\n",
       "      <td>0.000000</td>\n",
       "    </tr>\n",
       "    <tr>\n",
       "      <th>6</th>\n",
       "      <td>40:56.2</td>\n",
       "      <td>61fc6b15-5ce2-4613-a67b-f15bada3aa57</td>\n",
       "      <td>13</td>\n",
       "      <td>team_1</td>\n",
       "      <td>-0.579127</td>\n",
       "      <td>-0.271275</td>\n",
       "      <td>0.000000</td>\n",
       "    </tr>\n",
       "    <tr>\n",
       "      <th>7</th>\n",
       "      <td>40:56.2</td>\n",
       "      <td>0511e7cf-e543-4547-aa9d-1c80e0ec3ad8</td>\n",
       "      <td>5</td>\n",
       "      <td>team_1</td>\n",
       "      <td>-0.871739</td>\n",
       "      <td>2.950500</td>\n",
       "      <td>0.000000</td>\n",
       "    </tr>\n",
       "    <tr>\n",
       "      <th>8</th>\n",
       "      <td>40:56.2</td>\n",
       "      <td>ff41920c-89ef-11e6-b546-a45e60e298d3</td>\n",
       "      <td>7</td>\n",
       "      <td>team_1</td>\n",
       "      <td>-7.135455</td>\n",
       "      <td>-0.091441</td>\n",
       "      <td>0.000000</td>\n",
       "    </tr>\n",
       "    <tr>\n",
       "      <th>9</th>\n",
       "      <td>40:56.2</td>\n",
       "      <td>ff426326-89ef-11e6-a607-a45e60e298d3</td>\n",
       "      <td>9</td>\n",
       "      <td>team_1</td>\n",
       "      <td>-4.572056</td>\n",
       "      <td>1.874543</td>\n",
       "      <td>0.000000</td>\n",
       "    </tr>\n",
       "    <tr>\n",
       "      <th>10</th>\n",
       "      <td>40:56.2</td>\n",
       "      <td>ball</td>\n",
       "      <td>ball</td>\n",
       "      <td>team_ball</td>\n",
       "      <td>-0.012192</td>\n",
       "      <td>-0.368812</td>\n",
       "      <td>1.868447</td>\n",
       "    </tr>\n",
       "  </tbody>\n",
       "</table>\n",
       "</div>"
      ],
      "text/plain": [
       "         ts                             player_id jersey_nr       team  \\\n",
       "0   40:56.2  986b713a-b20b-4eb0-919e-c859d0508af7         0     team_0   \n",
       "1   40:56.2  ff4221b5-89ef-11e6-b799-a45e60e298d3        11     team_0   \n",
       "2   40:56.2  ff411907-89ef-11e6-9c68-a45e60e298d3        36     team_0   \n",
       "3   40:56.2  ff427c2e-89ef-11e6-8d2a-a45e60e298d3        42     team_0   \n",
       "4   40:56.2  ff413e73-89ef-11e6-a5df-a45e60e298d3        46     team_0   \n",
       "5   40:56.2  ff4024b0-89ef-11e6-a1ae-a45e60e298d3        11     team_1   \n",
       "6   40:56.2  61fc6b15-5ce2-4613-a67b-f15bada3aa57        13     team_1   \n",
       "7   40:56.2  0511e7cf-e543-4547-aa9d-1c80e0ec3ad8         5     team_1   \n",
       "8   40:56.2  ff41920c-89ef-11e6-b546-a45e60e298d3         7     team_1   \n",
       "9   40:56.2  ff426326-89ef-11e6-a607-a45e60e298d3         9     team_1   \n",
       "10  40:56.2                                  ball      ball  team_ball   \n",
       "\n",
       "           x         y         z  \n",
       "0   0.182882  2.953548  0.000000  \n",
       "1   6.647769 -0.234699  0.000000  \n",
       "2   0.438917 -2.990124  0.000000  \n",
       "3   3.313216 -0.268227  0.000000  \n",
       "4   0.143258  0.082297  0.000000  \n",
       "5  -0.448061 -2.962692  0.000000  \n",
       "6  -0.579127 -0.271275  0.000000  \n",
       "7  -0.871739  2.950500  0.000000  \n",
       "8  -7.135455 -0.091441  0.000000  \n",
       "9  -4.572056  1.874543  0.000000  \n",
       "10 -0.012192 -0.368812  1.868447  "
      ]
     },
     "execution_count": 2,
     "metadata": {},
     "output_type": "execute_result"
    }
   ],
   "source": [
    "os.chdir('C:/kinexon_task')\n",
    "nba_bos = pd.read_csv('2019040102_nba-bos_TRACKING.csv')\n",
    "nba_bos.head(11)"
   ]
  },
  {
   "cell_type": "code",
   "execution_count": 3,
   "id": "5716eba4",
   "metadata": {},
   "outputs": [],
   "source": [
    "time_steps = nba_bos['ts']\n",
    "player_id = nba_bos['player_id']\n",
    "jersey_nr = nba_bos['jersey_nr']\n",
    "team = nba_bos['team']\n",
    "x = nba_bos['x']\n",
    "y= nba_bos['y']\n",
    "z = nba_bos['z']"
   ]
  },
  {
   "cell_type": "markdown",
   "id": "269662ec",
   "metadata": {},
   "source": [
    "From the following autocorrelation graph, one can interpret that the number of past time steps to forecast next time steps should be less than around 200. Hence, I started with 100."
   ]
  },
  {
   "cell_type": "code",
   "execution_count": 6,
   "id": "ac4367e8",
   "metadata": {},
   "outputs": [
    {
     "data": {
      "image/png": "[encoded data removed]",
      "text/plain": [
       "<Figure size 432x288 with 1 Axes>"
      ]
     },
     "metadata": {
      "needs_background": "light"
     },
     "output_type": "display_data"
    }
   ],
   "source": [
    "autocorrelation_plot(x[0:9001:11])\n",
    "autocorrelation_plot(x[1:9001:11])\n",
    "plt.show()"
   ]
  },
  {
   "cell_type": "markdown",
   "id": "299df50c",
   "metadata": {},
   "source": [
    "From the following plots, I can assume that the time series I am dealing with is stationary ie., shows no significant trends or seasonality. Hence, I proceed with the data as it is without any preprocessing steps like detrending or deseasonalising. "
   ]
  },
  {
   "cell_type": "code",
   "execution_count": 7,
   "id": "2b0314c9",
   "metadata": {},
   "outputs": [
    {
     "data": {
      "text/plain": [
       "[<matplotlib.lines.Line2D at 0x2acc3c36df0>]"
      ]
     },
     "execution_count": 7,
     "metadata": {},
     "output_type": "execute_result"
    },
    {
     "data": {
      "image/png": "[encoded data removed]",
      "text/plain": [
       "<Figure size 432x288 with 1 Axes>"
      ]
     },
     "metadata": {
      "needs_background": "light"
     },
     "output_type": "display_data"
    }
   ],
   "source": [
    "plt.plot(time_steps[0:9000:11], x[0:9001:11], color='green')\n",
    "plt.plot(time_steps[1:9000:11], x[1:9000:11], color='green')\n",
    "plt.plot(time_steps[2:9000:11], x[2:9000:11], color='green')\n",
    "plt.plot(time_steps[3:9000:11], x[3:9000:11], color='green')\n",
    "plt.plot(time_steps[4:9000:11], x[4:9000:11], color='green')\n",
    "plt.plot(time_steps[5:9000:11], x[5:9000:11], color='red')\n",
    "plt.plot(time_steps[6:9000:11], x[6:9001:11], color='blue')\n",
    "plt.plot(time_steps[7:9000:11], x[7:9000:11], color='blue')\n",
    "plt.plot(time_steps[8:9000:11], x[8:9000:11], color='blue')\n",
    "plt.plot(time_steps[9:9000:11], x[9:9000:11], color='blue')\n",
    "plt.plot(time_steps[10:9000:11], x[10:9000:11], color='blue')"
   ]
  },
  {
   "cell_type": "markdown",
   "id": "029f80c5",
   "metadata": {},
   "source": [
    "### Implementation"
   ]
  },
  {
   "cell_type": "markdown",
   "id": "04de462e",
   "metadata": {},
   "source": [
    "The Jupyter file contains an interactive implementation. If you like, you can run the python script that I have sent, in terminal. Following is a sample command: <br>\n",
    "python3 training_and_evaluation.py -episodes 50 -num_past_steps 25 -batch_size 64 -begin 0 -end 1000 -load_model 1"
   ]
  },
  {
   "cell_type": "markdown",
   "id": "2620708f",
   "metadata": {},
   "source": [
    "I would recommend to load the pre-trained models, one corresponding to number of past time steps 100 and the other one 25. "
   ]
  },
  {
   "cell_type": "code",
   "execution_count": 4,
   "id": "61cd91a4",
   "metadata": {},
   "outputs": [],
   "source": [
    "import numpy as np\n",
    "import os\n",
    "import pandas as pd\n",
    "from pandas.plotting import autocorrelation_plot\n",
    "import matplotlib.pyplot as plt\n",
    "\n",
    "from keras.utils import np_utils\n",
    "from keras.models import Model\n",
    "from keras.layers import LSTM, Activation, Dense, Dropout, Input, Embedding, BatchNormalization\n",
    "from tensorflow.python.keras.callbacks import History\n"
   ]
  },
  {
   "cell_type": "code",
   "execution_count": 7,
   "id": "6d8e2caf",
   "metadata": {},
   "outputs": [],
   "source": [
    "#Normalization\n",
    "#x = (x-np.mean(x))/np.std(x)\n",
    "#y = (y-np.mean(y))/np.std(y)\n",
    "#z = (z-np.mean(z))/np.std(z)"
   ]
  },
  {
   "cell_type": "code",
   "execution_count": 9,
   "id": "6825b250",
   "metadata": {},
   "outputs": [],
   "source": [
    "num_time_steps = time_steps.shape[0]\n",
    "data = np.concatenate((x,y,z))\n",
    "data = data.reshape(3, num_time_steps)\n",
    "player=[]\n",
    "for i in range (11):\n",
    "    player1 = data[:, i:num_time_steps:11]\n",
    "    player.append(player1)"
   ]
  },
  {
   "cell_type": "code",
   "execution_count": 10,
   "id": "9d28b2be",
   "metadata": {},
   "outputs": [],
   "source": [
    "data =  np.array(player)"
   ]
  },
  {
   "cell_type": "code",
   "execution_count": 11,
   "id": "2a5325a3",
   "metadata": {},
   "outputs": [
    {
     "data": {
      "text/plain": [
       "(11, 3, 95325)"
      ]
     },
     "execution_count": 11,
     "metadata": {},
     "output_type": "execute_result"
    }
   ],
   "source": [
    "data.shape"
   ]
  },
  {
   "cell_type": "code",
   "execution_count": 12,
   "id": "fd35c9a2",
   "metadata": {},
   "outputs": [],
   "source": [
    "data=data.reshape(33, 95325)"
   ]
  },
  {
   "cell_type": "code",
   "execution_count": 12,
   "id": "150e0b28",
   "metadata": {},
   "outputs": [],
   "source": [
    "#in my previous implementation I used reshape instead of transpose and that created a havoc\n",
    "def create_dataset(num_past_steps, data):\n",
    "    x = []\n",
    "    y = []\n",
    "    for i in range(95224):                           #num_time_steps/11 = 95325  \n",
    "        #print(i)\n",
    "        p = np.matrix.transpose(data[:,i:i+num_past_steps])    #training data\n",
    "        x.append(p)\n",
    "        q = np.matrix.transpose(data[:,i+num_past_steps])    #test data\n",
    "        y.append(q)\n",
    "        \n",
    "    return np.array(x), np.array(y)"
   ]
  },
  {
   "cell_type": "code",
   "execution_count": 51,
   "id": "f3dbcef8",
   "metadata": {},
   "outputs": [],
   "source": [
    "data_X, label = create_dataset(25, data)"
   ]
  },
  {
   "cell_type": "code",
   "execution_count": 52,
   "id": "a3c650b6",
   "metadata": {},
   "outputs": [],
   "source": [
    "train_x, train_label = data_X[0:95000][:][:], label[0:95000][:][:] "
   ]
  },
  {
   "cell_type": "code",
   "execution_count": 53,
   "id": "ae381970",
   "metadata": {},
   "outputs": [],
   "source": [
    "test_x, test_label = data_X[95000:][:][:], label[95000:][:][:] "
   ]
  },
  {
   "cell_type": "code",
   "execution_count": 56,
   "id": "ddb867cf",
   "metadata": {},
   "outputs": [
    {
     "data": {
      "text/plain": [
       "(224, 33)"
      ]
     },
     "execution_count": 56,
     "metadata": {},
     "output_type": "execute_result"
    }
   ],
   "source": [
    "test_label.shape"
   ]
  },
  {
   "cell_type": "code",
   "execution_count": 60,
   "id": "f76d496d",
   "metadata": {},
   "outputs": [],
   "source": [
    "train_label=train_label.reshape(95000,1,33)\n",
    "test_label=test_label.reshape(224,1,33)"
   ]
  },
  {
   "cell_type": "markdown",
   "id": "4af75278",
   "metadata": {},
   "source": [
    "### Training"
   ]
  },
  {
   "cell_type": "code",
   "execution_count": 44,
   "id": "eaea3b5f",
   "metadata": {},
   "outputs": [
    {
     "name": "stdout",
     "output_type": "stream",
     "text": [
      "Model: \"model_5\"\n",
      "_________________________\n",
      "Layer (typ Output Sh Para\n",
      "=========================\n",
      "inputs (In [(None, 2 0   \n",
      "_________________________\n",
      "lstm_5 (LS (None, 25 2508\n",
      "_________________________\n",
      "activation (None, 25 0   \n",
      "_________________________\n",
      "dropout_1  (None, 25 0   \n",
      "_________________________\n",
      "FC2 (Dense (None, 25 8320\n",
      "_________________________\n",
      "activation (None, 25 0   \n",
      "_________________________\n",
      "out_layer  (None, 25 4257\n",
      "=========================\n",
      "Total params: 37,665\n",
      "Trainable params: 37,665\n",
      "Non-trainable params: 0\n",
      "_________________________\n"
     ]
    }
   ],
   "source": [
    "def RNN(past_time_steps):\n",
    "    inputs = Input(name='inputs',shape=(past_time_steps, 33))  \n",
    "    #layer = BatchNormalization()(inputs)\n",
    "    layer = LSTM(64, return_sequences=True)(inputs)\n",
    "    layer = Activation('relu')(layer)\n",
    "    layer = Dropout(0.2)(layer)   \n",
    "    #layer = LSTM(32, return_sequences=False)(layer)\n",
    "    layer = Dense(128,name='FC2')(layer)\n",
    "    layer = Activation('relu')(layer)\n",
    "                      \n",
    "                                                     \n",
    "    layer = Dense(33,name='out_layer')(layer)       \n",
    "    model = Model(inputs=inputs,outputs=layer)\n",
    "    return model\n",
    "\n",
    "#Compile the model\n",
    "model_25_ = RNN(25)   #or 100\n",
    "model_25_.summary(25) #or 100\n",
    "model_25_.compile(loss='mse',optimizer='adam',metrics=['accuracy']) #or 100\n",
    "\n",
    "#Fit on training data\n",
    "#model1.fit(trainx_array_new,label_array_new,batch_size=64,epochs=10, validation_split=0.2, shuffle='True')"
   ]
  },
  {
   "cell_type": "code",
   "execution_count": 45,
   "id": "76a98003",
   "metadata": {},
   "outputs": [
    {
     "name": "stdout",
     "output_type": "stream",
     "text": [
      "Epoch 1/100\n",
      "1188/1188 [==============================] - 36s 24ms/step - loss: 9.4564 - accuracy: 0.2410 - val_loss: 3.0982 - val_accuracy: 0.5603\n",
      "Epoch 2/100\n",
      "1188/1188 [==============================] - 33s 28ms/step - loss: 3.0189 - accuracy: 0.4494 - val_loss: 2.9364 - val_accuracy: 0.5545\n",
      "Epoch 3/100\n",
      "1188/1188 [==============================] - 30s 26ms/step - loss: 2.6847 - accuracy: 0.4675 - val_loss: 2.9820 - val_accuracy: 0.5587\n",
      "Epoch 4/100\n",
      "1188/1188 [==============================] - 32s 27ms/step - loss: 2.4826 - accuracy: 0.4777 - val_loss: 2.8698 - val_accuracy: 0.5666\n",
      "Epoch 5/100\n",
      "1188/1188 [==============================] - 32s 27ms/step - loss: 2.3076 - accuracy: 0.4877 - val_loss: 2.9338 - val_accuracy: 0.5507\n",
      "Epoch 6/100\n",
      "1188/1188 [==============================] - 36s 30ms/step - loss: 2.2094 - accuracy: 0.4958 - val_loss: 2.9588 - val_accuracy: 0.5322\n",
      "Epoch 7/100\n",
      "1188/1188 [==============================] - 33s 28ms/step - loss: 2.1440 - accuracy: 0.5002 - val_loss: 3.0362 - val_accuracy: 0.5451\n",
      "Epoch 8/100\n",
      "1188/1188 [==============================] - 33s 28ms/step - loss: 2.0792 - accuracy: 0.5052 - val_loss: 3.0341 - val_accuracy: 0.5330\n",
      "Epoch 9/100\n",
      "1188/1188 [==============================] - 33s 28ms/step - loss: 2.0157 - accuracy: 0.5081 - val_loss: 3.1002 - val_accuracy: 0.5184\n",
      "Epoch 10/100\n",
      "1188/1188 [==============================] - 36s 30ms/step - loss: 1.9770 - accuracy: 0.5130 - val_loss: 3.0878 - val_accuracy: 0.5247\n",
      "Epoch 11/100\n",
      "1188/1188 [==============================] - 33s 28ms/step - loss: 1.9191 - accuracy: 0.5169 - val_loss: 3.1539 - val_accuracy: 0.5019\n",
      "Epoch 12/100\n",
      "1188/1188 [==============================] - 33s 28ms/step - loss: 1.9176 - accuracy: 0.5171 - val_loss: 3.1709 - val_accuracy: 0.5261\n",
      "Epoch 13/100\n",
      "1188/1188 [==============================] - 36s 30ms/step - loss: 1.8744 - accuracy: 0.5201 - val_loss: 3.2502 - val_accuracy: 0.5224\n",
      "Epoch 14/100\n",
      "1188/1188 [==============================] - 34s 28ms/step - loss: 1.8488 - accuracy: 0.5233 - val_loss: 3.3340 - val_accuracy: 0.5071\n",
      "Epoch 15/100\n",
      "1188/1188 [==============================] - 33s 28ms/step - loss: 1.8272 - accuracy: 0.5252 - val_loss: 3.3380 - val_accuracy: 0.5085\n",
      "Epoch 16/100\n",
      "1188/1188 [==============================] - 34s 29ms/step - loss: 1.8045 - accuracy: 0.5266 - val_loss: 3.3752 - val_accuracy: 0.5066\n",
      "Epoch 17/100\n",
      "1188/1188 [==============================] - 35s 30ms/step - loss: 1.7906 - accuracy: 0.5289 - val_loss: 3.4727 - val_accuracy: 0.5040\n",
      "Epoch 18/100\n",
      "1188/1188 [==============================] - 33s 28ms/step - loss: 1.7653 - accuracy: 0.5298 - val_loss: 3.3544 - val_accuracy: 0.4875\n",
      "Epoch 19/100\n",
      "1188/1188 [==============================] - 35s 29ms/step - loss: 1.7487 - accuracy: 0.5316 - val_loss: 3.4259 - val_accuracy: 0.4955\n",
      "Epoch 20/100\n",
      "1188/1188 [==============================] - 36s 30ms/step - loss: 1.7221 - accuracy: 0.5319 - val_loss: 3.4890 - val_accuracy: 0.4855\n",
      "Epoch 21/100\n",
      "1188/1188 [==============================] - 34s 29ms/step - loss: 1.7212 - accuracy: 0.5353 - val_loss: 3.6947 - val_accuracy: 0.5017\n",
      "Epoch 22/100\n",
      "1188/1188 [==============================] - 34s 28ms/step - loss: 1.7063 - accuracy: 0.5351 - val_loss: 3.5286 - val_accuracy: 0.4794\n",
      "Epoch 23/100\n",
      "1188/1188 [==============================] - 34s 28ms/step - loss: 1.6982 - accuracy: 0.5354 - val_loss: 3.6237 - val_accuracy: 0.4884\n",
      "Epoch 24/100\n",
      "1188/1188 [==============================] - 39s 33ms/step - loss: 1.6777 - accuracy: 0.5371 - val_loss: 3.7282 - val_accuracy: 0.4895\n",
      "Epoch 25/100\n",
      "1188/1188 [==============================] - 38s 32ms/step - loss: 1.6597 - accuracy: 0.5391 - val_loss: 3.6482 - val_accuracy: 0.4832\n",
      "Epoch 26/100\n",
      "1188/1188 [==============================] - 35s 30ms/step - loss: 1.6600 - accuracy: 0.5372 - val_loss: 3.5184 - val_accuracy: 0.4991\n",
      "Epoch 27/100\n",
      "1188/1188 [==============================] - 58s 49ms/step - loss: 1.6488 - accuracy: 0.5401 - val_loss: 3.4778 - val_accuracy: 0.4811\n",
      "Epoch 28/100\n",
      "1188/1188 [==============================] - 32s 27ms/step - loss: 1.6387 - accuracy: 0.5395 - val_loss: 3.6605 - val_accuracy: 0.4891\n",
      "Epoch 29/100\n",
      "1188/1188 [==============================] - 30s 25ms/step - loss: 1.6401 - accuracy: 0.5415 - val_loss: 3.6223 - val_accuracy: 0.4953\n",
      "Epoch 30/100\n",
      "1188/1188 [==============================] - 31s 26ms/step - loss: 1.6100 - accuracy: 0.5437 - val_loss: 3.5956 - val_accuracy: 0.4848\n",
      "Epoch 31/100\n",
      "1188/1188 [==============================] - 30s 25ms/step - loss: 1.6038 - accuracy: 0.5437 - val_loss: 3.6245 - val_accuracy: 0.4885\n",
      "Epoch 32/100\n",
      "1188/1188 [==============================] - 31s 26ms/step - loss: 1.6026 - accuracy: 0.5456 - val_loss: 3.8042 - val_accuracy: 0.4851\n",
      "Epoch 33/100\n",
      "1188/1188 [==============================] - 32s 27ms/step - loss: 1.5994 - accuracy: 0.5447 - val_loss: 3.7163 - val_accuracy: 0.4916\n",
      "Epoch 34/100\n",
      "1188/1188 [==============================] - 40s 33ms/step - loss: 1.5717 - accuracy: 0.5468 - val_loss: 3.6695 - val_accuracy: 0.4831\n",
      "Epoch 35/100\n",
      "1188/1188 [==============================] - 31s 26ms/step - loss: 1.5740 - accuracy: 0.5468 - val_loss: 3.6818 - val_accuracy: 0.4827s: 1.5740 - ac\n",
      "Epoch 36/100\n",
      "1188/1188 [==============================] - 36s 30ms/step - loss: 1.5567 - accuracy: 0.5473 - val_loss: 3.6870 - val_accuracy: 0.4903\n",
      "Epoch 37/100\n",
      "1188/1188 [==============================] - 33s 28ms/step - loss: 1.5814 - accuracy: 0.5464 - val_loss: 3.6975 - val_accuracy: 0.4878\n",
      "Epoch 38/100\n",
      "1188/1188 [==============================] - 37s 31ms/step - loss: 1.5472 - accuracy: 0.5477 - val_loss: 3.7310 - val_accuracy: 0.4725\n",
      "Epoch 39/100\n",
      "1188/1188 [==============================] - 31s 26ms/step - loss: 1.5549 - accuracy: 0.5464 - val_loss: 3.6649 - val_accuracy: 0.4862\n",
      "Epoch 40/100\n",
      "1188/1188 [==============================] - 35s 29ms/step - loss: 1.5438 - accuracy: 0.5495 - val_loss: 3.6745 - val_accuracy: 0.4873\n",
      "Epoch 41/100\n",
      "1188/1188 [==============================] - 39s 33ms/step - loss: 1.5406 - accuracy: 0.5478 - val_loss: 3.7103 - val_accuracy: 0.5024\n",
      "Epoch 42/100\n",
      "1188/1188 [==============================] - 33s 28ms/step - loss: 1.5288 - accuracy: 0.5501 - val_loss: 3.6992 - val_accuracy: 0.4912\n",
      "Epoch 43/100\n",
      "1188/1188 [==============================] - 36s 30ms/step - loss: 1.5226 - accuracy: 0.5506 - val_loss: 3.6695 - val_accuracy: 0.4897\n",
      "Epoch 44/100\n",
      "1188/1188 [==============================] - 43s 36ms/step - loss: 1.5234 - accuracy: 0.5517 - val_loss: 3.6613 - val_accuracy: 0.4991\n",
      "Epoch 45/100\n",
      "1188/1188 [==============================] - 38s 32ms/step - loss: 1.5168 - accuracy: 0.5533 - val_loss: 3.6994 - val_accuracy: 0.4950\n",
      "Epoch 46/100\n",
      "1188/1188 [==============================] - 41s 35ms/step - loss: 1.5091 - accuracy: 0.5530 - val_loss: 3.6555 - val_accuracy: 0.4910\n",
      "Epoch 47/100\n",
      "1188/1188 [==============================] - 34s 28ms/step - loss: 1.5044 - accuracy: 0.5533 - val_loss: 3.6537 - val_accuracy: 0.4948\n",
      "Epoch 48/100\n",
      "1188/1188 [==============================] - 33s 27ms/step - loss: 1.5055 - accuracy: 0.5554 - val_loss: 3.6330 - val_accuracy: 0.4856\n",
      "Epoch 49/100\n",
      "1188/1188 [==============================] - 32s 27ms/step - loss: 1.4810 - accuracy: 0.5565 - val_loss: 3.6557 - val_accuracy: 0.4918\n",
      "Epoch 50/100\n",
      "1188/1188 [==============================] - 31s 26ms/step - loss: 1.4872 - accuracy: 0.5549 - val_loss: 3.6496 - val_accuracy: 0.4893\n",
      "Epoch 51/100\n",
      "1188/1188 [==============================] - 34s 29ms/step - loss: 1.4965 - accuracy: 0.5537 - val_loss: 3.6375 - val_accuracy: 0.4832\n",
      "Epoch 52/100\n",
      "1188/1188 [==============================] - 32s 27ms/step - loss: 1.4776 - accuracy: 0.5591 - val_loss: 3.6736 - val_accuracy: 0.4879\n",
      "Epoch 53/100\n",
      "1188/1188 [==============================] - 32s 27ms/step - loss: 1.4767 - accuracy: 0.5594 - val_loss: 3.6988 - val_accuracy: 0.4938\n",
      "Epoch 54/100\n",
      "1188/1188 [==============================] - 33s 28ms/step - loss: 1.4718 - accuracy: 0.5602 - val_loss: 3.6602 - val_accuracy: 0.4916\n",
      "Epoch 55/100\n",
      "1188/1188 [==============================] - 31s 26ms/step - loss: 1.4656 - accuracy: 0.5603 - val_loss: 3.7002 - val_accuracy: 0.4849\n",
      "Epoch 56/100\n",
      "1188/1188 [==============================] - 32s 27ms/step - loss: 1.4548 - accuracy: 0.5597 - val_loss: 3.6292 - val_accuracy: 0.4943\n",
      "Epoch 57/100\n",
      "1188/1188 [==============================] - 32s 27ms/step - loss: 1.4558 - accuracy: 0.5606 - val_loss: 3.6778 - val_accuracy: 0.5030\n",
      "Epoch 58/100\n",
      "1188/1188 [==============================] - 32s 27ms/step - loss: 1.4596 - accuracy: 0.5611 - val_loss: 3.6834 - val_accuracy: 0.4938\n",
      "Epoch 59/100\n",
      "1188/1188 [==============================] - 34s 29ms/step - loss: 1.4483 - accuracy: 0.5618 - val_loss: 3.6913 - val_accuracy: 0.4931\n",
      "Epoch 60/100\n",
      "1188/1188 [==============================] - 32s 27ms/step - loss: 1.4615 - accuracy: 0.5621 - val_loss: 3.6860 - val_accuracy: 0.4942\n",
      "Epoch 61/100\n",
      "1188/1188 [==============================] - 34s 29ms/step - loss: 1.4345 - accuracy: 0.5638 - val_loss: 3.6660 - val_accuracy: 0.4930\n",
      "Epoch 62/100\n",
      "1188/1188 [==============================] - 33s 28ms/step - loss: 1.4366 - accuracy: 0.5617 - val_loss: 3.7378 - val_accuracy: 0.4860\n",
      "Epoch 63/100\n",
      "1188/1188 [==============================] - 33s 27ms/step - loss: 1.4183 - accuracy: 0.5638 - val_loss: 3.7161 - val_accuracy: 0.4854\n",
      "Epoch 64/100\n",
      "1188/1188 [==============================] - 34s 28ms/step - loss: 1.4331 - accuracy: 0.5637 - val_loss: 3.7203 - val_accuracy: 0.4969\n",
      "Epoch 65/100\n",
      "1188/1188 [==============================] - 39s 33ms/step - loss: 1.4170 - accuracy: 0.5646 - val_loss: 3.8863 - val_accuracy: 0.5020\n",
      "Epoch 66/100\n",
      "1188/1188 [==============================] - 35s 30ms/step - loss: 1.4471 - accuracy: 0.5619 - val_loss: 3.7467 - val_accuracy: 0.4980\n",
      "Epoch 67/100\n",
      "1188/1188 [==============================] - 37s 31ms/step - loss: 1.4227 - accuracy: 0.5644 - val_loss: 3.8000 - val_accuracy: 0.5025\n",
      "Epoch 68/100\n",
      "1188/1188 [==============================] - 33s 28ms/step - loss: 1.4146 - accuracy: 0.5654 - val_loss: 3.7707 - val_accuracy: 0.5037\n",
      "Epoch 69/100\n",
      "1188/1188 [==============================] - 36s 30ms/step - loss: 1.4156 - accuracy: 0.5667 - val_loss: 3.7729 - val_accuracy: 0.4913\n",
      "Epoch 70/100\n",
      "1188/1188 [==============================] - 35s 29ms/step - loss: 1.4102 - accuracy: 0.5667 - val_loss: 3.7685 - val_accuracy: 0.5022\n",
      "Epoch 71/100\n",
      "1188/1188 [==============================] - 36s 30ms/step - loss: 1.4108 - accuracy: 0.5645 - val_loss: 3.7973 - val_accuracy: 0.5060\n",
      "Epoch 72/100\n",
      "1188/1188 [==============================] - 39s 33ms/step - loss: 1.3969 - accuracy: 0.5651 - val_loss: 3.8227 - val_accuracy: 0.4984\n",
      "Epoch 73/100\n",
      "1188/1188 [==============================] - 37s 31ms/step - loss: 1.4002 - accuracy: 0.5655 - val_loss: 3.7701 - val_accuracy: 0.5146\n",
      "Epoch 74/100\n",
      "1188/1188 [==============================] - 36s 30ms/step - loss: 1.4171 - accuracy: 0.5670 - val_loss: 3.8178 - val_accuracy: 0.5038\n",
      "Epoch 75/100\n",
      "1188/1188 [==============================] - 39s 33ms/step - loss: 1.4100 - accuracy: 0.5664 - val_loss: 3.8543 - val_accuracy: 0.5061\n",
      "Epoch 76/100\n",
      "1188/1188 [==============================] - 35s 30ms/step - loss: 1.4056 - accuracy: 0.5679 - val_loss: 3.8036 - val_accuracy: 0.5112\n",
      "Epoch 77/100\n",
      "1188/1188 [==============================] - 33s 28ms/step - loss: 1.3887 - accuracy: 0.5666 - val_loss: 3.7686 - val_accuracy: 0.5061\n",
      "Epoch 78/100\n",
      "1188/1188 [==============================] - 36s 30ms/step - loss: 1.3918 - accuracy: 0.5675 - val_loss: 3.8103 - val_accuracy: 0.5016\n",
      "Epoch 79/100\n",
      "1188/1188 [==============================] - 39s 33ms/step - loss: 1.3902 - accuracy: 0.5686 - val_loss: 3.8197 - val_accuracy: 0.5104\n",
      "Epoch 80/100\n",
      "1188/1188 [==============================] - 37s 31ms/step - loss: 1.3918 - accuracy: 0.5667 - val_loss: 3.8420 - val_accuracy: 0.5146\n",
      "Epoch 81/100\n",
      "1188/1188 [==============================] - 35s 30ms/step - loss: 1.3760 - accuracy: 0.5709 - val_loss: 3.8599 - val_accuracy: 0.5208\n",
      "Epoch 82/100\n",
      "1188/1188 [==============================] - 33s 28ms/step - loss: 1.3757 - accuracy: 0.5711 - val_loss: 3.8374 - val_accuracy: 0.5189\n",
      "Epoch 83/100\n",
      "1188/1188 [==============================] - 36s 30ms/step - loss: 1.3771 - accuracy: 0.5710 - val_loss: 3.8606 - val_accuracy: 0.5190\n",
      "Epoch 84/100\n",
      "1188/1188 [==============================] - 36s 31ms/step - loss: 1.3799 - accuracy: 0.5715 - val_loss: 3.7874 - val_accuracy: 0.5186\n",
      "Epoch 85/100\n",
      "1188/1188 [==============================] - 37s 31ms/step - loss: 1.3734 - accuracy: 0.5721 - val_loss: 3.8072 - val_accuracy: 0.5231curacy: 0.57\n",
      "Epoch 86/100\n",
      "1188/1188 [==============================] - 35s 29ms/step - loss: 1.3637 - accuracy: 0.5714 - val_loss: 3.8323 - val_accuracy: 0.5179\n",
      "Epoch 87/100\n",
      "1188/1188 [==============================] - 34s 29ms/step - loss: 1.3737 - accuracy: 0.5708 - val_loss: 3.8727 - val_accuracy: 0.5122\n",
      "Epoch 88/100\n",
      "1188/1188 [==============================] - 35s 29ms/step - loss: 1.3639 - accuracy: 0.5717 - val_loss: 3.7914 - val_accuracy: 0.5093\n",
      "Epoch 89/100\n",
      "1188/1188 [==============================] - 37s 31ms/step - loss: 1.3725 - accuracy: 0.5707 - val_loss: 3.8461 - val_accuracy: 0.5123\n",
      "Epoch 90/100\n",
      "1188/1188 [==============================] - 35s 29ms/step - loss: 1.3633 - accuracy: 0.5724 - val_loss: 3.8100 - val_accuracy: 0.5207\n",
      "Epoch 91/100\n",
      "1188/1188 [==============================] - 35s 30ms/step - loss: 1.3596 - accuracy: 0.5712 - val_loss: 3.7470 - val_accuracy: 0.5152\n",
      "Epoch 92/100\n",
      "1188/1188 [==============================] - 37s 31ms/step - loss: 1.3553 - accuracy: 0.5715 - val_loss: 3.7624 - val_accuracy: 0.5097\n",
      "Epoch 93/100\n",
      "1188/1188 [==============================] - 40s 34ms/step - loss: 1.3650 - accuracy: 0.5728 - val_loss: 3.9057 - val_accuracy: 0.5108\n",
      "Epoch 94/100\n",
      "1188/1188 [==============================] - 30s 25ms/step - loss: 1.3587 - accuracy: 0.5738 - val_loss: 3.8598 - val_accuracy: 0.5131\n",
      "Epoch 95/100\n",
      "1188/1188 [==============================] - 32s 27ms/step - loss: 1.3514 - accuracy: 0.5723 - val_loss: 3.8271 - val_accuracy: 0.5068\n",
      "Epoch 96/100\n",
      "1188/1188 [==============================] - 33s 28ms/step - loss: 1.3492 - accuracy: 0.5731 - val_loss: 3.8154 - val_accuracy: 0.5084\n",
      "Epoch 97/100\n",
      "1188/1188 [==============================] - 36s 30ms/step - loss: 1.3576 - accuracy: 0.5717 - val_loss: 3.8459 - val_accuracy: 0.5023\n",
      "Epoch 98/100\n",
      "1188/1188 [==============================] - 35s 29ms/step - loss: 1.3470 - accuracy: 0.5728 - val_loss: 3.8606 - val_accuracy: 0.5198\n",
      "Epoch 99/100\n",
      "1188/1188 [==============================] - 37s 31ms/step - loss: 1.3457 - accuracy: 0.5751 - val_loss: 3.8252 - val_accuracy: 0.5046\n",
      "Epoch 100/100\n",
      "1188/1188 [==============================] - 35s 30ms/step - loss: 1.3445 - accuracy: 0.5748 - val_loss: 3.7688 - val_accuracy: 0.5113\n"
     ]
    },
    {
     "data": {
      "text/plain": [
       "<keras.callbacks.History at 0x1977d92a9a0>"
      ]
     },
     "execution_count": 45,
     "metadata": {},
     "output_type": "execute_result"
    }
   ],
   "source": [
    "model_25_.fit(train_x, train_label,batch_size=64,epochs=100, validation_split=0.2, shuffle='True')"
   ]
  },
  {
   "cell_type": "code",
   "execution_count": 61,
   "id": "086631cd",
   "metadata": {},
   "outputs": [
    {
     "name": "stdout",
     "output_type": "stream",
     "text": [
      "7/7 [==============================] - 5s 7ms/step - loss: 3.7754 - accuracy: 0.7379\n"
     ]
    },
    {
     "data": {
      "text/plain": [
       "[3.7754178047180176, 0.7378571629524231]"
      ]
     },
     "execution_count": 61,
     "metadata": {},
     "output_type": "execute_result"
    }
   ],
   "source": [
    "#Test result:\n",
    "model_25_.evaluate(test_x, test_label)"
   ]
  },
  {
   "cell_type": "code",
   "execution_count": 62,
   "id": "c1cf6db2",
   "metadata": {},
   "outputs": [],
   "source": [
    "#Data preparation for model_100_"
   ]
  },
  {
   "cell_type": "code",
   "execution_count": 21,
   "id": "570f7633",
   "metadata": {},
   "outputs": [],
   "source": [
    "data_X, label = create_dataset(100, data)\n",
    "train_x, train_label = data_X[0:95000][:][:], label[0:95000][:][:] \n",
    "test_x, test_label = data_X[95000:][:][:], label[95000:][:][:]\n",
    "train_label=train_label.reshape(95000,1,33)"
   ]
  },
  {
   "cell_type": "code",
   "execution_count": 26,
   "id": "6989c4ec",
   "metadata": {},
   "outputs": [],
   "source": [
    "test_label=test_label.reshape(224,1,33)"
   ]
  },
  {
   "cell_type": "code",
   "execution_count": 20,
   "id": "aeb16ed6",
   "metadata": {},
   "outputs": [
    {
     "ename": "ValueError",
     "evalue": "cannot reshape array of size 7392 into shape (224,1,3)",
     "output_type": "error",
     "traceback": [
      "\u001b[1;31m---------------------------------------------------------------------------\u001b[0m",
      "\u001b[1;31mValueError\u001b[0m                                Traceback (most recent call last)",
      "\u001b[1;32m<ipython-input-20-43d8ef69b2c7>\u001b[0m in \u001b[0;36m<module>\u001b[1;34m\u001b[0m\n\u001b[1;32m----> 1\u001b[1;33m \u001b[0mtest_label\u001b[0m\u001b[1;33m=\u001b[0m\u001b[0mtest_label\u001b[0m\u001b[1;33m.\u001b[0m\u001b[0mreshape\u001b[0m\u001b[1;33m(\u001b[0m\u001b[1;36m224\u001b[0m\u001b[1;33m,\u001b[0m\u001b[1;36m1\u001b[0m\u001b[1;33m,\u001b[0m\u001b[1;36m3\u001b[0m\u001b[1;33m)\u001b[0m\u001b[1;33m\u001b[0m\u001b[1;33m\u001b[0m\u001b[0m\n\u001b[0m",
      "\u001b[1;31mValueError\u001b[0m: cannot reshape array of size 7392 into shape (224,1,3)"
     ]
    }
   ],
   "source": [
    "test_label=test_label.reshape(224,1,3)"
   ]
  },
  {
   "cell_type": "code",
   "execution_count": 16,
   "id": "0016ecf9",
   "metadata": {},
   "outputs": [],
   "source": [
    "import keras\n",
    "model_100_ = keras.models.load_model(\"my_model100\")"
   ]
  },
  {
   "cell_type": "code",
   "execution_count": 48,
   "id": "fb299a22",
   "metadata": {},
   "outputs": [
    {
     "name": "stdout",
     "output_type": "stream",
     "text": [
      "Model: \"model_7\"\n",
      "____________________________________________________________________________________________________\n",
      "Layer (type)                                 Output Shape                            Param #        \n",
      "====================================================================================================\n",
      "inputs (InputLayer)                          [(None, 100, 33)]                       0              \n",
      "____________________________________________________________________________________________________\n",
      "lstm_7 (LSTM)                                (None, 100, 64)                         25088          \n",
      "____________________________________________________________________________________________________\n",
      "activation_10 (Activation)                   (None, 100, 64)                         0              \n",
      "____________________________________________________________________________________________________\n",
      "dropout_3 (Dropout)                          (None, 100, 64)                         0              \n",
      "____________________________________________________________________________________________________\n",
      "FC2 (Dense)                                  (None, 100, 128)                        8320           \n",
      "____________________________________________________________________________________________________\n",
      "activation_11 (Activation)                   (None, 100, 128)                        0              \n",
      "____________________________________________________________________________________________________\n",
      "out_layer (Dense)                            (None, 100, 33)                         4257           \n",
      "====================================================================================================\n",
      "Total params: 37,665\n",
      "Trainable params: 37,665\n",
      "Non-trainable params: 0\n",
      "____________________________________________________________________________________________________\n",
      "Epoch 1/100\n",
      "1188/1188 [==============================] - 131s 96ms/step - loss: 12.1563 - accuracy: 0.1731 - val_loss: 11.3957 - val_accuracy: 0.3487\n",
      "Epoch 2/100\n",
      "1188/1188 [==============================] - 115s 97ms/step - loss: 5.5186 - accuracy: 0.3357 - val_loss: 11.8278 - val_accuracy: 0.3074\n",
      "Epoch 3/100\n",
      "1188/1188 [==============================] - 121s 102ms/step - loss: 4.8076 - accuracy: 0.3621 - val_loss: 12.1690 - val_accuracy: 0.3052\n",
      "Epoch 4/100\n",
      "1188/1188 [==============================] - 117s 98ms/step - loss: 4.4408 - accuracy: 0.3747 - val_loss: 12.9700 - val_accuracy: 0.2880\n",
      "Epoch 5/100\n",
      "1188/1188 [==============================] - 121s 102ms/step - loss: 4.1417 - accuracy: 0.3840 - val_loss: 13.4743 - val_accuracy: 0.2632\n",
      "Epoch 6/100\n",
      "1188/1188 [==============================] - 118s 100ms/step - loss: 3.9686 - accuracy: 0.3931 - val_loss: 13.7336 - val_accuracy: 0.2685\n",
      "Epoch 7/100\n",
      "1188/1188 [==============================] - 119s 100ms/step - loss: 3.7665 - accuracy: 0.3984 - val_loss: 13.3627 - val_accuracy: 0.2608\n",
      "Epoch 8/100\n",
      "1188/1188 [==============================] - 125s 105ms/step - loss: 3.7010 - accuracy: 0.4043 - val_loss: 13.5105 - val_accuracy: 0.2720\n",
      "Epoch 9/100\n",
      "1188/1188 [==============================] - 135s 113ms/step - loss: 3.5891 - accuracy: 0.4096 - val_loss: 14.2213 - val_accuracy: 0.2346\n",
      "Epoch 10/100\n",
      "1188/1188 [==============================] - 130s 109ms/step - loss: 3.4924 - accuracy: 0.4118 - val_loss: 13.8957 - val_accuracy: 0.2374\n",
      "Epoch 11/100\n",
      "1188/1188 [==============================] - 122s 103ms/step - loss: 3.4124 - accuracy: 0.4151 - val_loss: 13.6711 - val_accuracy: 0.2456\n",
      "Epoch 12/100\n",
      "1188/1188 [==============================] - 125s 105ms/step - loss: 3.3109 - accuracy: 0.4197 - val_loss: 13.9854 - val_accuracy: 0.2379\n",
      "Epoch 13/100\n",
      "1188/1188 [==============================] - 124s 105ms/step - loss: 3.2600 - accuracy: 0.4213 - val_loss: 13.9211 - val_accuracy: 0.2379\n",
      "Epoch 14/100\n",
      "1188/1188 [==============================] - 125s 105ms/step - loss: 3.2312 - accuracy: 0.4226 - val_loss: 13.7727 - val_accuracy: 0.2358\n",
      "Epoch 15/100\n",
      "1188/1188 [==============================] - 123s 103ms/step - loss: 3.1851 - accuracy: 0.4267 - val_loss: 14.0479 - val_accuracy: 0.2346\n",
      "Epoch 16/100\n",
      "1188/1188 [==============================] - 129s 109ms/step - loss: 3.1439 - accuracy: 0.4276 - val_loss: 13.7969 - val_accuracy: 0.2413\n",
      "Epoch 17/100\n",
      "1188/1188 [==============================] - 120s 101ms/step - loss: 3.1007 - accuracy: 0.4291 - val_loss: 13.7476 - val_accuracy: 0.2401\n",
      "Epoch 18/100\n",
      "1188/1188 [==============================] - 127s 107ms/step - loss: 3.1259 - accuracy: 0.4280 - val_loss: 14.1215 - val_accuracy: 0.2283\n",
      "Epoch 19/100\n",
      "1188/1188 [==============================] - 119s 100ms/step - loss: 3.0431 - accuracy: 0.4304 - val_loss: 14.1177 - val_accuracy: 0.2309\n",
      "Epoch 20/100\n",
      "1188/1188 [==============================] - 121s 102ms/step - loss: 3.0091 - accuracy: 0.4326 - val_loss: 13.9611 - val_accuracy: 0.2252\n",
      "Epoch 21/100\n",
      "1188/1188 [==============================] - 125s 105ms/step - loss: 3.0402 - accuracy: 0.4333 - val_loss: 14.1823 - val_accuracy: 0.2283\n",
      "Epoch 22/100\n",
      "1188/1188 [==============================] - 125s 105ms/step - loss: 2.9907 - accuracy: 0.4363 - val_loss: 14.6518 - val_accuracy: 0.2352\n",
      "Epoch 23/100\n",
      "1188/1188 [==============================] - 118s 99ms/step - loss: 2.9713 - accuracy: 0.4332 - val_loss: 14.3322 - val_accuracy: 0.2238\n",
      "Epoch 24/100\n",
      "1188/1188 [==============================] - 127s 107ms/step - loss: 2.9178 - accuracy: 0.4371 - val_loss: 14.5957 - val_accuracy: 0.2184\n",
      "Epoch 25/100\n",
      "1188/1188 [==============================] - 123s 104ms/step - loss: 2.8987 - accuracy: 0.4378 - val_loss: 14.8738 - val_accuracy: 0.2231\n",
      "Epoch 26/100\n",
      "1188/1188 [==============================] - 130s 109ms/step - loss: 2.9033 - accuracy: 0.4397 - val_loss: 14.7893 - val_accuracy: 0.2256\n",
      "Epoch 27/100\n",
      "1188/1188 [==============================] - 123s 104ms/step - loss: 2.8921 - accuracy: 0.4395 - val_loss: 15.1844 - val_accuracy: 0.2135\n",
      "Epoch 28/100\n",
      "1188/1188 [==============================] - 129s 109ms/step - loss: 2.9727 - accuracy: 0.4356 - val_loss: 15.0634 - val_accuracy: 0.2131\n",
      "Epoch 29/100\n",
      "1188/1188 [==============================] - 125s 106ms/step - loss: 2.8672 - accuracy: 0.4397 - val_loss: 15.2148 - val_accuracy: 0.2109\n",
      "Epoch 30/100\n",
      "1188/1188 [==============================] - 122s 102ms/step - loss: 2.8185 - accuracy: 0.4448 - val_loss: 15.2125 - val_accuracy: 0.2062\n",
      "Epoch 31/100\n",
      "1188/1188 [==============================] - 127s 107ms/step - loss: 2.8577 - accuracy: 0.4415 - val_loss: 15.2733 - val_accuracy: 0.2087\n",
      "Epoch 32/100\n",
      "1188/1188 [==============================] - 121s 102ms/step - loss: 2.8096 - accuracy: 0.4439 - val_loss: 15.3282 - val_accuracy: 0.2151\n",
      "Epoch 33/100\n",
      "1188/1188 [==============================] - 122s 103ms/step - loss: 2.8480 - accuracy: 0.4432 - val_loss: 15.3400 - val_accuracy: 0.2146\n",
      "Epoch 34/100\n",
      "1188/1188 [==============================] - 123s 104ms/step - loss: 2.7770 - accuracy: 0.4447 - val_loss: 15.6134 - val_accuracy: 0.2094\n",
      "Epoch 35/100\n",
      "1188/1188 [==============================] - 127s 107ms/step - loss: 2.7769 - accuracy: 0.4464 - val_loss: 15.6778 - val_accuracy: 0.2037\n",
      "Epoch 36/100\n",
      "1188/1188 [==============================] - 126s 106ms/step - loss: 2.7833 - accuracy: 0.4452 - val_loss: 15.0316 - val_accuracy: 0.2233\n",
      "Epoch 37/100\n",
      "1188/1188 [==============================] - 122s 102ms/step - loss: 2.8310 - accuracy: 0.4423 - val_loss: 15.6454 - val_accuracy: 0.2077\n",
      "Epoch 38/100\n",
      " 136/1188 [==>...........................] - ETA: 1:46 - loss: 2.9058 - accuracy: 0.4367"
     ]
    },
    {
     "ename": "KeyboardInterrupt",
     "evalue": "",
     "output_type": "error",
     "traceback": [
      "\u001b[1;31m---------------------------------------------------------------------------\u001b[0m",
      "\u001b[1;31mKeyboardInterrupt\u001b[0m                         Traceback (most recent call last)",
      "\u001b[1;32m<ipython-input-48-9fd62560dd82>\u001b[0m in \u001b[0;36m<module>\u001b[1;34m\u001b[0m\n\u001b[0;32m      3\u001b[0m \u001b[0mmodel_100_\u001b[0m\u001b[1;33m.\u001b[0m\u001b[0msummary\u001b[0m\u001b[1;33m(\u001b[0m\u001b[1;36m100\u001b[0m\u001b[1;33m)\u001b[0m\u001b[1;33m\u001b[0m\u001b[1;33m\u001b[0m\u001b[0m\n\u001b[0;32m      4\u001b[0m \u001b[0mmodel_100_\u001b[0m\u001b[1;33m.\u001b[0m\u001b[0mcompile\u001b[0m\u001b[1;33m(\u001b[0m\u001b[0mloss\u001b[0m\u001b[1;33m=\u001b[0m\u001b[1;34m'mse'\u001b[0m\u001b[1;33m,\u001b[0m\u001b[0moptimizer\u001b[0m\u001b[1;33m=\u001b[0m\u001b[1;34m'adam'\u001b[0m\u001b[1;33m,\u001b[0m\u001b[0mmetrics\u001b[0m\u001b[1;33m=\u001b[0m\u001b[1;33m[\u001b[0m\u001b[1;34m'accuracy'\u001b[0m\u001b[1;33m]\u001b[0m\u001b[1;33m)\u001b[0m\u001b[1;33m\u001b[0m\u001b[1;33m\u001b[0m\u001b[0m\n\u001b[1;32m----> 5\u001b[1;33m \u001b[0mmodel_100_\u001b[0m\u001b[1;33m.\u001b[0m\u001b[0mfit\u001b[0m\u001b[1;33m(\u001b[0m\u001b[0mtrain_x\u001b[0m\u001b[1;33m,\u001b[0m \u001b[0mtrain_label\u001b[0m\u001b[1;33m,\u001b[0m\u001b[0mbatch_size\u001b[0m\u001b[1;33m=\u001b[0m\u001b[1;36m64\u001b[0m\u001b[1;33m,\u001b[0m\u001b[0mepochs\u001b[0m\u001b[1;33m=\u001b[0m\u001b[1;36m100\u001b[0m\u001b[1;33m,\u001b[0m \u001b[0mvalidation_split\u001b[0m\u001b[1;33m=\u001b[0m\u001b[1;36m0.2\u001b[0m\u001b[1;33m,\u001b[0m \u001b[0mshuffle\u001b[0m\u001b[1;33m=\u001b[0m\u001b[1;34m'True'\u001b[0m\u001b[1;33m)\u001b[0m\u001b[1;33m\u001b[0m\u001b[1;33m\u001b[0m\u001b[0m\n\u001b[0m",
      "\u001b[1;32m~\\AppData\\Roaming\\Python\\Python38\\site-packages\\keras\\engine\\training.py\u001b[0m in \u001b[0;36mfit\u001b[1;34m(self, x, y, batch_size, epochs, verbose, callbacks, validation_split, validation_data, shuffle, class_weight, sample_weight, initial_epoch, steps_per_epoch, validation_steps, validation_batch_size, validation_freq, max_queue_size, workers, use_multiprocessing)\u001b[0m\n\u001b[0;32m   1156\u001b[0m                 _r=1):\n\u001b[0;32m   1157\u001b[0m               \u001b[0mcallbacks\u001b[0m\u001b[1;33m.\u001b[0m\u001b[0mon_train_batch_begin\u001b[0m\u001b[1;33m(\u001b[0m\u001b[0mstep\u001b[0m\u001b[1;33m)\u001b[0m\u001b[1;33m\u001b[0m\u001b[1;33m\u001b[0m\u001b[0m\n\u001b[1;32m-> 1158\u001b[1;33m               \u001b[0mtmp_logs\u001b[0m \u001b[1;33m=\u001b[0m \u001b[0mself\u001b[0m\u001b[1;33m.\u001b[0m\u001b[0mtrain_function\u001b[0m\u001b[1;33m(\u001b[0m\u001b[0miterator\u001b[0m\u001b[1;33m)\u001b[0m\u001b[1;33m\u001b[0m\u001b[1;33m\u001b[0m\u001b[0m\n\u001b[0m\u001b[0;32m   1159\u001b[0m               \u001b[1;32mif\u001b[0m \u001b[0mdata_handler\u001b[0m\u001b[1;33m.\u001b[0m\u001b[0mshould_sync\u001b[0m\u001b[1;33m:\u001b[0m\u001b[1;33m\u001b[0m\u001b[1;33m\u001b[0m\u001b[0m\n\u001b[0;32m   1160\u001b[0m                 \u001b[0mcontext\u001b[0m\u001b[1;33m.\u001b[0m\u001b[0masync_wait\u001b[0m\u001b[1;33m(\u001b[0m\u001b[1;33m)\u001b[0m\u001b[1;33m\u001b[0m\u001b[1;33m\u001b[0m\u001b[0m\n",
      "\u001b[1;32m~\\AppData\\Roaming\\Python\\Python38\\site-packages\\tensorflow\\python\\eager\\def_function.py\u001b[0m in \u001b[0;36m__call__\u001b[1;34m(self, *args, **kwds)\u001b[0m\n\u001b[0;32m    887\u001b[0m \u001b[1;33m\u001b[0m\u001b[0m\n\u001b[0;32m    888\u001b[0m       \u001b[1;32mwith\u001b[0m \u001b[0mOptionalXlaContext\u001b[0m\u001b[1;33m(\u001b[0m\u001b[0mself\u001b[0m\u001b[1;33m.\u001b[0m\u001b[0m_jit_compile\u001b[0m\u001b[1;33m)\u001b[0m\u001b[1;33m:\u001b[0m\u001b[1;33m\u001b[0m\u001b[1;33m\u001b[0m\u001b[0m\n\u001b[1;32m--> 889\u001b[1;33m         \u001b[0mresult\u001b[0m \u001b[1;33m=\u001b[0m \u001b[0mself\u001b[0m\u001b[1;33m.\u001b[0m\u001b[0m_call\u001b[0m\u001b[1;33m(\u001b[0m\u001b[1;33m*\u001b[0m\u001b[0margs\u001b[0m\u001b[1;33m,\u001b[0m \u001b[1;33m**\u001b[0m\u001b[0mkwds\u001b[0m\u001b[1;33m)\u001b[0m\u001b[1;33m\u001b[0m\u001b[1;33m\u001b[0m\u001b[0m\n\u001b[0m\u001b[0;32m    890\u001b[0m \u001b[1;33m\u001b[0m\u001b[0m\n\u001b[0;32m    891\u001b[0m       \u001b[0mnew_tracing_count\u001b[0m \u001b[1;33m=\u001b[0m \u001b[0mself\u001b[0m\u001b[1;33m.\u001b[0m\u001b[0mexperimental_get_tracing_count\u001b[0m\u001b[1;33m(\u001b[0m\u001b[1;33m)\u001b[0m\u001b[1;33m\u001b[0m\u001b[1;33m\u001b[0m\u001b[0m\n",
      "\u001b[1;32m~\\AppData\\Roaming\\Python\\Python38\\site-packages\\tensorflow\\python\\eager\\def_function.py\u001b[0m in \u001b[0;36m_call\u001b[1;34m(self, *args, **kwds)\u001b[0m\n\u001b[0;32m    915\u001b[0m       \u001b[1;31m# In this case we have created variables on the first call, so we run the\u001b[0m\u001b[1;33m\u001b[0m\u001b[1;33m\u001b[0m\u001b[1;33m\u001b[0m\u001b[0m\n\u001b[0;32m    916\u001b[0m       \u001b[1;31m# defunned version which is guaranteed to never create variables.\u001b[0m\u001b[1;33m\u001b[0m\u001b[1;33m\u001b[0m\u001b[1;33m\u001b[0m\u001b[0m\n\u001b[1;32m--> 917\u001b[1;33m       \u001b[1;32mreturn\u001b[0m \u001b[0mself\u001b[0m\u001b[1;33m.\u001b[0m\u001b[0m_stateless_fn\u001b[0m\u001b[1;33m(\u001b[0m\u001b[1;33m*\u001b[0m\u001b[0margs\u001b[0m\u001b[1;33m,\u001b[0m \u001b[1;33m**\u001b[0m\u001b[0mkwds\u001b[0m\u001b[1;33m)\u001b[0m  \u001b[1;31m# pylint: disable=not-callable\u001b[0m\u001b[1;33m\u001b[0m\u001b[1;33m\u001b[0m\u001b[0m\n\u001b[0m\u001b[0;32m    918\u001b[0m     \u001b[1;32melif\u001b[0m \u001b[0mself\u001b[0m\u001b[1;33m.\u001b[0m\u001b[0m_stateful_fn\u001b[0m \u001b[1;32mis\u001b[0m \u001b[1;32mnot\u001b[0m \u001b[1;32mNone\u001b[0m\u001b[1;33m:\u001b[0m\u001b[1;33m\u001b[0m\u001b[1;33m\u001b[0m\u001b[0m\n\u001b[0;32m    919\u001b[0m       \u001b[1;31m# Release the lock early so that multiple threads can perform the call\u001b[0m\u001b[1;33m\u001b[0m\u001b[1;33m\u001b[0m\u001b[1;33m\u001b[0m\u001b[0m\n",
      "\u001b[1;32m~\\AppData\\Roaming\\Python\\Python38\\site-packages\\tensorflow\\python\\eager\\function.py\u001b[0m in \u001b[0;36m__call__\u001b[1;34m(self, *args, **kwargs)\u001b[0m\n\u001b[0;32m   3021\u001b[0m       (graph_function,\n\u001b[0;32m   3022\u001b[0m        filtered_flat_args) = self._maybe_define_function(args, kwargs)\n\u001b[1;32m-> 3023\u001b[1;33m     return graph_function._call_flat(\n\u001b[0m\u001b[0;32m   3024\u001b[0m         filtered_flat_args, captured_inputs=graph_function.captured_inputs)  # pylint: disable=protected-access\n\u001b[0;32m   3025\u001b[0m \u001b[1;33m\u001b[0m\u001b[0m\n",
      "\u001b[1;32m~\\AppData\\Roaming\\Python\\Python38\\site-packages\\tensorflow\\python\\eager\\function.py\u001b[0m in \u001b[0;36m_call_flat\u001b[1;34m(self, args, captured_inputs, cancellation_manager)\u001b[0m\n\u001b[0;32m   1958\u001b[0m         and executing_eagerly):\n\u001b[0;32m   1959\u001b[0m       \u001b[1;31m# No tape is watching; skip to running the function.\u001b[0m\u001b[1;33m\u001b[0m\u001b[1;33m\u001b[0m\u001b[1;33m\u001b[0m\u001b[0m\n\u001b[1;32m-> 1960\u001b[1;33m       return self._build_call_outputs(self._inference_function.call(\n\u001b[0m\u001b[0;32m   1961\u001b[0m           ctx, args, cancellation_manager=cancellation_manager))\n\u001b[0;32m   1962\u001b[0m     forward_backward = self._select_forward_and_backward_functions(\n",
      "\u001b[1;32m~\\AppData\\Roaming\\Python\\Python38\\site-packages\\tensorflow\\python\\eager\\function.py\u001b[0m in \u001b[0;36mcall\u001b[1;34m(self, ctx, args, cancellation_manager)\u001b[0m\n\u001b[0;32m    589\u001b[0m       \u001b[1;32mwith\u001b[0m \u001b[0m_InterpolateFunctionError\u001b[0m\u001b[1;33m(\u001b[0m\u001b[0mself\u001b[0m\u001b[1;33m)\u001b[0m\u001b[1;33m:\u001b[0m\u001b[1;33m\u001b[0m\u001b[1;33m\u001b[0m\u001b[0m\n\u001b[0;32m    590\u001b[0m         \u001b[1;32mif\u001b[0m \u001b[0mcancellation_manager\u001b[0m \u001b[1;32mis\u001b[0m \u001b[1;32mNone\u001b[0m\u001b[1;33m:\u001b[0m\u001b[1;33m\u001b[0m\u001b[1;33m\u001b[0m\u001b[0m\n\u001b[1;32m--> 591\u001b[1;33m           outputs = execute.execute(\n\u001b[0m\u001b[0;32m    592\u001b[0m               \u001b[0mstr\u001b[0m\u001b[1;33m(\u001b[0m\u001b[0mself\u001b[0m\u001b[1;33m.\u001b[0m\u001b[0msignature\u001b[0m\u001b[1;33m.\u001b[0m\u001b[0mname\u001b[0m\u001b[1;33m)\u001b[0m\u001b[1;33m,\u001b[0m\u001b[1;33m\u001b[0m\u001b[1;33m\u001b[0m\u001b[0m\n\u001b[0;32m    593\u001b[0m               \u001b[0mnum_outputs\u001b[0m\u001b[1;33m=\u001b[0m\u001b[0mself\u001b[0m\u001b[1;33m.\u001b[0m\u001b[0m_num_outputs\u001b[0m\u001b[1;33m,\u001b[0m\u001b[1;33m\u001b[0m\u001b[1;33m\u001b[0m\u001b[0m\n",
      "\u001b[1;32m~\\AppData\\Roaming\\Python\\Python38\\site-packages\\tensorflow\\python\\eager\\execute.py\u001b[0m in \u001b[0;36mquick_execute\u001b[1;34m(op_name, num_outputs, inputs, attrs, ctx, name)\u001b[0m\n\u001b[0;32m     57\u001b[0m   \u001b[1;32mtry\u001b[0m\u001b[1;33m:\u001b[0m\u001b[1;33m\u001b[0m\u001b[1;33m\u001b[0m\u001b[0m\n\u001b[0;32m     58\u001b[0m     \u001b[0mctx\u001b[0m\u001b[1;33m.\u001b[0m\u001b[0mensure_initialized\u001b[0m\u001b[1;33m(\u001b[0m\u001b[1;33m)\u001b[0m\u001b[1;33m\u001b[0m\u001b[1;33m\u001b[0m\u001b[0m\n\u001b[1;32m---> 59\u001b[1;33m     tensors = pywrap_tfe.TFE_Py_Execute(ctx._handle, device_name, op_name,\n\u001b[0m\u001b[0;32m     60\u001b[0m                                         inputs, attrs, num_outputs)\n\u001b[0;32m     61\u001b[0m   \u001b[1;32mexcept\u001b[0m \u001b[0mcore\u001b[0m\u001b[1;33m.\u001b[0m\u001b[0m_NotOkStatusException\u001b[0m \u001b[1;32mas\u001b[0m \u001b[0me\u001b[0m\u001b[1;33m:\u001b[0m\u001b[1;33m\u001b[0m\u001b[1;33m\u001b[0m\u001b[0m\n",
      "\u001b[1;31mKeyboardInterrupt\u001b[0m: "
     ]
    }
   ],
   "source": [
    "#Compile the model\n",
    "model_100_ = RNN(100)   \n",
    "model_100_.summary(100) \n",
    "model_100_.compile(loss='mse',optimizer='adam',metrics=['accuracy']) \n",
    "model_100_.fit(train_x, train_label,batch_size=64,epochs=100, validation_split=0.2, shuffle='True')"
   ]
  },
  {
   "cell_type": "code",
   "execution_count": 27,
   "id": "2f0f5d91",
   "metadata": {},
   "outputs": [
    {
     "name": "stdout",
     "output_type": "stream",
     "text": [
      "7/7 [==============================] - 9s 23ms/step - loss: 6.7734 - accuracy: 0.1204\n"
     ]
    },
    {
     "data": {
      "text/plain": [
       "[6.773382663726807, 0.12044642865657806]"
      ]
     },
     "execution_count": 27,
     "metadata": {},
     "output_type": "execute_result"
    }
   ],
   "source": [
    "#Test results: \n",
    "model_100_.evaluate(test_x, test_label)"
   ]
  },
  {
   "cell_type": "code",
   "execution_count": 50,
   "id": "4bebac9d",
   "metadata": {},
   "outputs": [
    {
     "name": "stderr",
     "output_type": "stream",
     "text": [
      "WARNING:absl:Found untraced functions such as lstm_cell_7_layer_call_and_return_conditional_losses, lstm_cell_7_layer_call_fn, lstm_cell_7_layer_call_fn, lstm_cell_7_layer_call_and_return_conditional_losses, lstm_cell_7_layer_call_and_return_conditional_losses while saving (showing 5 of 5). These functions will not be directly callable after loading.\n"
     ]
    },
    {
     "name": "stdout",
     "output_type": "stream",
     "text": [
      "INFO:tensorflow:Assets written to: my_model100\\assets\n"
     ]
    },
    {
     "name": "stderr",
     "output_type": "stream",
     "text": [
      "INFO:tensorflow:Assets written to: my_model100\\assets\n",
      "WARNING:absl:Found untraced functions such as lstm_cell_5_layer_call_and_return_conditional_losses, lstm_cell_5_layer_call_fn, lstm_cell_5_layer_call_fn, lstm_cell_5_layer_call_and_return_conditional_losses, lstm_cell_5_layer_call_and_return_conditional_losses while saving (showing 5 of 5). These functions will not be directly callable after loading.\n"
     ]
    },
    {
     "name": "stdout",
     "output_type": "stream",
     "text": [
      "INFO:tensorflow:Assets written to: my_model25\\assets\n"
     ]
    },
    {
     "name": "stderr",
     "output_type": "stream",
     "text": [
      "INFO:tensorflow:Assets written to: my_model25\\assets\n"
     ]
    }
   ],
   "source": [
    "model_100_.save('my_model100')\n",
    "model_25_.save('my_model25')"
   ]
  },
  {
   "cell_type": "markdown",
   "id": "2bbc255f",
   "metadata": {},
   "source": [
    "### Variance Test"
   ]
  },
  {
   "cell_type": "code",
   "execution_count": 5,
   "id": "b6ed304e",
   "metadata": {},
   "outputs": [],
   "source": [
    "nba_uta = pd.read_csv('2019040129_nba-uta_TRACKING.csv')"
   ]
  },
  {
   "cell_type": "code",
   "execution_count": 6,
   "id": "ae07f130",
   "metadata": {},
   "outputs": [],
   "source": [
    "nba_gsw = pd.read_csv('2019051610_nba-gsw_TRACKING.csv')"
   ]
  },
  {
   "cell_type": "code",
   "execution_count": 8,
   "id": "539aca83",
   "metadata": {},
   "outputs": [],
   "source": [
    "def data_preprocessing(raw_data):\n",
    "        \n",
    "    #team = raw_data['team']\n",
    "    #data = 0\n",
    "    \n",
    "    #for i in range (len(raw_data['ts'])):\n",
    "        #if team[i]=='team_ball':\n",
    "            #team[i]='team_2'\n",
    "        \n",
    "    #team = np.array(team)\n",
    "    #team_processed = np.zeros([len(team)])\n",
    "    #for i in range (len(team)): \n",
    "        #team_processed[i] = int(team[i][5])\n",
    "            \n",
    "    num_time_steps = time_steps.shape[0]\n",
    "    data = np.concatenate((raw_data['x'],raw_data['y'],raw_data['z']))\n",
    "    data = data.reshape(3, num_time_steps)\n",
    "    player=[]\n",
    "    for i in range (11):\n",
    "        player1 = data[:, i:num_time_steps:11]\n",
    "        player.append(player1)\n",
    "    \n",
    "    data =  np.array(player)\n",
    "    \n",
    "    return data"
   ]
  },
  {
   "cell_type": "code",
   "execution_count": 18,
   "id": "a3c4332f",
   "metadata": {},
   "outputs": [],
   "source": [
    "data = data_preprocessing(nba_gsw)"
   ]
  },
  {
   "cell_type": "code",
   "execution_count": 19,
   "id": "933e90ed",
   "metadata": {},
   "outputs": [],
   "source": [
    "data=data.reshape(33,95325)"
   ]
  },
  {
   "cell_type": "code",
   "execution_count": 25,
   "id": "0422f1e7",
   "metadata": {},
   "outputs": [],
   "source": [
    "x, y = create_dataset(25, data)"
   ]
  },
  {
   "cell_type": "code",
   "execution_count": 28,
   "id": "fefdc969",
   "metadata": {},
   "outputs": [
    {
     "data": {
      "text/plain": [
       "95224"
      ]
     },
     "execution_count": 28,
     "metadata": {},
     "output_type": "execute_result"
    }
   ],
   "source": [
    "len(y)"
   ]
  },
  {
   "cell_type": "code",
   "execution_count": 26,
   "id": "26221463",
   "metadata": {},
   "outputs": [],
   "source": [
    "y=y.reshape(95224,1,33)"
   ]
  },
  {
   "cell_type": "markdown",
   "id": "8a9829bf",
   "metadata": {},
   "source": [
    "## NBA_UTA"
   ]
  },
  {
   "cell_type": "code",
   "execution_count": 44,
   "id": "355d68d4",
   "metadata": {},
   "outputs": [
    {
     "name": "stdout",
     "output_type": "stream",
     "text": [
      "94/94 [==============================] - 6s 8ms/step - loss: 3.1988 - accuracy: 0.5074\n"
     ]
    },
    {
     "data": {
      "text/plain": [
       "[3.198753595352173, 0.5073666572570801]"
      ]
     },
     "execution_count": 44,
     "metadata": {},
     "output_type": "execute_result"
    }
   ],
   "source": [
    "model_25_.evaluate(x[0:6000], y[0:6000], batch_size=64)"
   ]
  },
  {
   "cell_type": "code",
   "execution_count": 16,
   "id": "429d40df",
   "metadata": {},
   "outputs": [
    {
     "name": "stdout",
     "output_type": "stream",
     "text": [
      "94/94 [==============================] - 17s 26ms/step - loss: 12.2466 - accuracy: 0.2411\n"
     ]
    },
    {
     "data": {
      "text/plain": [
       "[12.246556282043457, 0.24110166728496552]"
      ]
     },
     "execution_count": 16,
     "metadata": {},
     "output_type": "execute_result"
    }
   ],
   "source": [
    "model_100_.evaluate(x[0:6000], y[0:6000], batch_size=64)"
   ]
  },
  {
   "cell_type": "markdown",
   "id": "737a1103",
   "metadata": {},
   "source": [
    "## NBA_GSW"
   ]
  },
  {
   "cell_type": "code",
   "execution_count": 22,
   "id": "f34fc738",
   "metadata": {},
   "outputs": [
    {
     "name": "stdout",
     "output_type": "stream",
     "text": [
      "94/94 [==============================] - 3s 27ms/step - loss: 15.7371 - accuracy: 0.2476\n"
     ]
    },
    {
     "data": {
      "text/plain": [
       "[15.73711109161377, 0.24758833646774292]"
      ]
     },
     "execution_count": 22,
     "metadata": {},
     "output_type": "execute_result"
    }
   ],
   "source": [
    "model_100_.evaluate(x[0:6000], y[0:6000], batch_size=64)"
   ]
  },
  {
   "cell_type": "code",
   "execution_count": 27,
   "id": "8fe0d73c",
   "metadata": {},
   "outputs": [
    {
     "name": "stdout",
     "output_type": "stream",
     "text": [
      "94/94 [==============================] - 2s 8ms/step - loss: 3.1692 - accuracy: 0.4347\n"
     ]
    },
    {
     "data": {
      "text/plain": [
       "[3.1692137718200684, 0.434746652841568]"
      ]
     },
     "execution_count": 27,
     "metadata": {},
     "output_type": "execute_result"
    }
   ],
   "source": [
    "model_25_.evaluate(x[0:6000], y[0:6000], batch_size=64)"
   ]
  },
  {
   "cell_type": "markdown",
   "id": "522ea57b",
   "metadata": {},
   "source": [
    "### Further steps:\n",
    "\n",
    "1. First of all, training the same model with around 200 to 400 epochs as there is a clear scope of increasing the training accuracy. \n",
    "2. Combining all the three time series and evaluating with the same RNN architecture.\n",
    "3. Architectural tweaks, like batch normalization, adding LSTM layers etc. \n",
    "4. Predicting more than 1 future time steps either in a regressive way (feeding network outputs to the model and predicting the next step), or by directly making labels 2-dimensional.\n",
    "5. Model player interacrions like euclidean distances, playing position etc. (giving rise to a graph), and then apply min-cost flow for time series forecasting.\n",
    "6. Trying out generative RNNs and Variational Autoencoders, to perform uncertainty quantification and generate scenarios that were never seen before, but have the same posterior distribution p(z|x), z:=latent variables describing space dynamics, x:=states. This can also be used for data augmentation. \n",
    "7. In case the underlying dynamics can also be learnt, then particle filter is also a solution. I am not sure how else to model the underlying dynamics."
   ]
  },
  {
   "cell_type": "code",
   "execution_count": null,
   "id": "fc107325",
   "metadata": {},
   "outputs": [],
   "source": []
  }
 ],
 "metadata": {
  "kernelspec": {
   "display_name": "Python 3",
   "language": "python",
   "name": "python3"
  },
  "language_info": {
   "codemirror_mode": {
    "name": "ipython",
    "version": 3
   },
   "file_extension": ".py",
   "mimetype": "text/x-python",
   "name": "python",
   "nbconvert_exporter": "python",
   "pygments_lexer": "ipython3",
   "version": "3.8.8"
  }
 },
 "nbformat": 4,
 "nbformat_minor": 5
}
